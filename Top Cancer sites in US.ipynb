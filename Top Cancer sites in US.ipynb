{
 "cells": [
  {
   "cell_type": "markdown",
   "metadata": {},
   "source": [
    "# LEADING CANCER SITES"
   ]
  },
  {
   "cell_type": "markdown",
   "metadata": {},
   "source": [
    "## Introduction And Project Scope"
   ]
  },
  {
   "cell_type": "markdown",
   "metadata": {},
   "source": [
    "In the previous project i.e. Leading Causes of Deaths in USA, we implemented data management techniques using Pandas on two datasets (1. NCHS - leading causes of deaths, containing number of deaths and its cause in USA and 2. nst -est2018-01 which had the details about the population of US over the years), to find the top 4 causes of death faced by Americans. The said top death causes found were:  1) Heart Disease\n",
    "                          2) Cancer\n",
    "                          3) Stroke\n",
    "                          4) CLRD\n",
    "\n",
    "Among these top 4 causes, Cancer being the 2nd largest cause of death in USA, the focus of this project will be to determine the leading cancer sites / cancer types diagnosed in the selected population and time period in USA.\n",
    "\n",
    "The question we are addressing, related to the top 10 cancer sites for Americans over the years will be done in 2 sub parts:\n",
    "\n",
    "    A) What are the over all Leading 10 Cancer Sites for Americans?\n",
    "    B) What are the year wise 10 Leading Cancer Sites for Americans?"
   ]
  },
  {
   "cell_type": "markdown",
   "metadata": {},
   "source": [
    "## Data Collection"
   ]
  },
  {
   "cell_type": "markdown",
   "metadata": {},
   "source": [
    "For the purpose of this project we collected data regarding the USA Cancer Statistics, Incidence Reports for the period 2010 to 2016 which was available on the website of \"Centers for Disease Control and Prevention\" in addition to the population data set provided to us previously. Thus the following datasets were used in this project:\n",
    "\n",
    "    1) US Cancer typewise stats, 2010-2016. (website ref: https://wonder.cdc.gov/controller/datarequest/D160)\n",
    "    2) nst-est2018-01  \n",
    "The first data set contains the details about yearwise and statewise leading cancer sites and count of incidence reported for the period 2010 to 2016. While the second dataset consists of details related to year wise and statewise population of US for the period 2010 t0 2017."
   ]
  },
  {
   "cell_type": "markdown",
   "metadata": {},
   "source": [
    "## Code, Explanation and Analysis"
   ]
  },
  {
   "cell_type": "markdown",
   "metadata": {},
   "source": [
    "### Preliminary Steps"
   ]
  },
  {
   "cell_type": "code",
   "execution_count": 1,
   "metadata": {},
   "outputs": [],
   "source": [
    "# Importing the packages\n",
    "import pandas as pd\n",
    "import numpy as np\n",
    "import matplotlib.pyplot as plt"
   ]
  },
  {
   "cell_type": "markdown",
   "metadata": {},
   "source": [
    "#### Data reading, merging and data cleaning"
   ]
  },
  {
   "cell_type": "code",
   "execution_count": 2,
   "metadata": {},
   "outputs": [],
   "source": [
    "# Reading the nst-est2018-01 dataset\n",
    "file = 'C:/RIT/Spring 2021\\BANA 680 - Data Management for Business Analytics/Assignment 1/nst-est2018-01.xlsx'\n",
    "pop_data = pd.read_excel(file)\n",
    "pop_df = pd.DataFrame(pop_data)"
   ]
  },
  {
   "cell_type": "code",
   "execution_count": 3,
   "metadata": {},
   "outputs": [],
   "source": [
    "# Reading the US Cancer typewise stats dataset and converting it to dataframe\n",
    "Cancer_types = 'C:/RIT/Spring 2021/BANA 680 - Data Management for Business Analytics/Final/US Cancer typewise stats, 2010 - 2016.txt'\n",
    "df_can_typ = pd.DataFrame(pd.read_csv(Cancer_types, delimiter = \"\\t\"))"
   ]
  },
  {
   "cell_type": "markdown",
   "metadata": {},
   "source": [
    "To check and handle missing values as well as displaying the for unique states and cancer types in the df, we execute the following commands:"
   ]
  },
  {
   "cell_type": "code",
   "execution_count": 4,
   "metadata": {},
   "outputs": [
    {
     "name": "stdout",
     "output_type": "stream",
     "text": [
      "Number of missing values in each column: \n",
      " Notes                        7784\n",
      "States                         57\n",
      "States Code                    57\n",
      "Year                           57\n",
      "Year Code                      57\n",
      "Leading Cancer Sites           57\n",
      "Leading Cancer Sites Code      57\n",
      "Count                          57\n",
      "dtype: int64\n"
     ]
    }
   ],
   "source": [
    "print('Number of missing values in each column:', '\\n', df_can_typ.isnull().sum())"
   ]
  },
  {
   "cell_type": "code",
   "execution_count": 5,
   "metadata": {},
   "outputs": [],
   "source": [
    "# Dropping column 'Notes' from the df\n",
    "df_can_typ = df_can_typ.drop('Notes', axis = 1)\n",
    "# dropping rows with missing values\n",
    "is_NaN = df_can_typ. isnull()\n",
    "row_has_NaN = is_NaN. any(axis=1)\n",
    "rows_with_NaN = df_can_typ[row_has_NaN]\n",
    "#print(rows_with_NaN)\n",
    "df_cleaned = df_can_typ.dropna(subset = ['Year'])"
   ]
  },
  {
   "cell_type": "code",
   "execution_count": 6,
   "metadata": {},
   "outputs": [
    {
     "name": "stdout",
     "output_type": "stream",
     "text": [
      "Number of leading cancer sites: \t 22\n",
      "Number of States: \t 51\n"
     ]
    }
   ],
   "source": [
    "# Number of unique cancer sites and states included in cleaned df:\n",
    "print('Number of leading cancer sites:', '\\t' , len(pd.unique(df_cleaned['Leading Cancer Sites'])))\n",
    "print('Number of States:', '\\t', len(pd.unique(df_cleaned['States'])))"
   ]
  },
  {
   "cell_type": "markdown",
   "metadata": {},
   "source": [
    "### Analyzing the trend in reported cancer incidence over the years"
   ]
  },
  {
   "cell_type": "markdown",
   "metadata": {},
   "source": [
    "In order to analyze the trend in cancer incidences, we need to look at the yearly reported incidence count for USA as whole and ignore the data for individual states. Also, since the population differs for each year, we need to standarized the death count for each year in order to be compared fairly.\n",
    "##### Steps:\n",
    "- We need the total number of deaths per year in order to analyze the death trend over the years. For this, we will apply groupby function of the df_cleaned to group it by year and aggregate the count of incidence for each year.\n",
    "- We know that population differs for each year. So in order to have fair comparision of incidene count over the years, we need to standarized the count variable. For this, we will extract the population data from the second df i.e. pop_df and use it to normalize the incidence count over the years.\n",
    "- The final goal to analyze the cancer incidence trend is to compute the number of incidence per year and then normalize it by dividing it by population for the year so that the effect of population is ignored."
   ]
  },
  {
   "cell_type": "code",
   "execution_count": 7,
   "metadata": {},
   "outputs": [],
   "source": [
    "# Create a new df with just year wise count of cancer incidence in US\n",
    "df_year = df_cleaned.groupby(['Year']).agg({'Count': sum})"
   ]
  },
  {
   "cell_type": "code",
   "execution_count": 8,
   "metadata": {},
   "outputs": [],
   "source": [
    "#Creating a new pop_us dataframe with just year and population column from the original pop_df created above for \n",
    "#purpose of merging it in the next step.\n",
    "pop_us = pd.DataFrame({'Year' : pop_df.iloc[2, 3:], 'Population' : pop_df.iloc[3, 3:]})\n",
    "# merging the df_year with pop_us in order to add the population column for each year\n",
    "merge_year = pd.merge(df_year, pop_us, on = 'Year', how = 'inner')"
   ]
  },
  {
   "cell_type": "code",
   "execution_count": 9,
   "metadata": {},
   "outputs": [
    {
     "data": {
      "text/html": [
       "<div>\n",
       "<style scoped>\n",
       "    .dataframe tbody tr th:only-of-type {\n",
       "        vertical-align: middle;\n",
       "    }\n",
       "\n",
       "    .dataframe tbody tr th {\n",
       "        vertical-align: top;\n",
       "    }\n",
       "\n",
       "    .dataframe thead th {\n",
       "        text-align: right;\n",
       "    }\n",
       "</style>\n",
       "<table border=\"1\" class=\"dataframe\">\n",
       "  <thead>\n",
       "    <tr style=\"text-align: right;\">\n",
       "      <th></th>\n",
       "      <th>Year</th>\n",
       "      <th>Count</th>\n",
       "      <th>Population</th>\n",
       "      <th>CPM</th>\n",
       "    </tr>\n",
       "  </thead>\n",
       "  <tbody>\n",
       "    <tr>\n",
       "      <th>0</th>\n",
       "      <td>2010.0</td>\n",
       "      <td>1420850.0</td>\n",
       "      <td>309326085</td>\n",
       "      <td>4593.37</td>\n",
       "    </tr>\n",
       "    <tr>\n",
       "      <th>1</th>\n",
       "      <td>2011.0</td>\n",
       "      <td>1453057.0</td>\n",
       "      <td>3.1158e+08</td>\n",
       "      <td>4663.51</td>\n",
       "    </tr>\n",
       "  </tbody>\n",
       "</table>\n",
       "</div>"
      ],
      "text/plain": [
       "     Year      Count  Population      CPM\n",
       "0  2010.0  1420850.0   309326085  4593.37\n",
       "1  2011.0  1453057.0  3.1158e+08  4663.51"
      ]
     },
     "execution_count": 9,
     "metadata": {},
     "output_type": "execute_result"
    }
   ],
   "source": [
    "# adding a new column: 'Count per Million' i.e. CPM, for standarizing the incidence count to make it comparable.\n",
    "merge_year['CPM'] = (merge_year['Count']/merge_year['Population'])*1000000\n",
    "merge_year.head(2)"
   ]
  },
  {
   "cell_type": "markdown",
   "metadata": {},
   "source": [
    "#### From the above output we can see that there is an increasing trend in Cancer incidences reported in US over the period."
   ]
  },
  {
   "cell_type": "markdown",
   "metadata": {},
   "source": [
    "### (A) 10 Leading Cancer sites over the years in US"
   ]
  },
  {
   "cell_type": "markdown",
   "metadata": {},
   "source": [
    "In order to determine the leading 10 cancer sites in US, we will used the df_cleaned created.\n",
    "\n",
    "We will create a new df say df_topsites by grouping the df_cleaned on 'Leading cancer sites' and aggregating the count for each site.\n",
    "Then we will sort the count values in descending order and create a new df say df_cs_top10, which will contain the details of cancer sites having highest incidence count over the years."
   ]
  },
  {
   "cell_type": "code",
   "execution_count": 10,
   "metadata": {},
   "outputs": [
    {
     "data": {
      "text/html": [
       "<div>\n",
       "<style scoped>\n",
       "    .dataframe tbody tr th:only-of-type {\n",
       "        vertical-align: middle;\n",
       "    }\n",
       "\n",
       "    .dataframe tbody tr th {\n",
       "        vertical-align: top;\n",
       "    }\n",
       "\n",
       "    .dataframe thead th {\n",
       "        text-align: right;\n",
       "    }\n",
       "</style>\n",
       "<table border=\"1\" class=\"dataframe\">\n",
       "  <thead>\n",
       "    <tr style=\"text-align: right;\">\n",
       "      <th></th>\n",
       "      <th>Leading Cancer Sites</th>\n",
       "      <th>Count</th>\n",
       "    </tr>\n",
       "  </thead>\n",
       "  <tbody>\n",
       "    <tr>\n",
       "      <th>1</th>\n",
       "      <td>Breast</td>\n",
       "      <td>1661438.0</td>\n",
       "    </tr>\n",
       "    <tr>\n",
       "      <th>11</th>\n",
       "      <td>Lung and Bronchus</td>\n",
       "      <td>1533872.0</td>\n",
       "    </tr>\n",
       "  </tbody>\n",
       "</table>\n",
       "</div>"
      ],
      "text/plain": [
       "   Leading Cancer Sites      Count\n",
       "1                Breast  1661438.0\n",
       "11    Lung and Bronchus  1533872.0"
      ]
     },
     "execution_count": 10,
     "metadata": {},
     "output_type": "execute_result"
    }
   ],
   "source": [
    "# Groupby cancer sites and agg of count\n",
    "df_topsites = df_cleaned.groupby(['Leading Cancer Sites']).sum()['Count'].reset_index()\n",
    "df_cs_top10 = df_topsites.sort_values(['Count'], ascending = False).head(10)\n",
    "df_cs_top10.head(2)"
   ]
  },
  {
   "cell_type": "code",
   "execution_count": 11,
   "metadata": {},
   "outputs": [
    {
     "data": {
      "image/png": "[encoded data removed]",
      "text/plain": [
       "<Figure size 432x288 with 1 Axes>"
      ]
     },
     "metadata": {
      "needs_background": "light"
     },
     "output_type": "display_data"
    }
   ],
   "source": [
    "#Create a horizontal bar plot with descending order to show top 10 leading causes of Cancer in USA\n",
    "x = df_cs_top10[\"Leading Cancer Sites\"]\n",
    "y = df_cs_top10[\"Count\"]\n",
    "\n",
    "plt.barh(x, y, color='green', alpha=1, align=\"center\")\n",
    "plt.title(\"Top 10 Leading Cancer Sites in USA (2010-2016)\")\n",
    "plt.xlabel(\"Total Cancer Site Incidence Counts Over the Years(in millions)\")\n",
    "plt.grid(linestyle='--', dashes=(1, 4), linewidth=0.5, color='black')\n",
    "\n",
    "plt.show()"
   ]
  },
  {
   "cell_type": "markdown",
   "metadata": {},
   "source": [
    "### (B) Year wise 10 leading cancer sites in US"
   ]
  },
  {
   "cell_type": "code",
   "execution_count": 12,
   "metadata": {},
   "outputs": [],
   "source": [
    "# Yearlwise top causes\n",
    "df_yearwise = df_cleaned.groupby(['Year', 'Leading Cancer Sites']).agg({'Count': sum})\n",
    "df_yr = df_yearwise['Count'].groupby('Year', group_keys=False)\n",
    "df = df_yr.apply(lambda x: x.sort_values(ascending=False).head(10))\n",
    "\n",
    "# Converting to dataframe\n",
    "df_unstack = df.unstack(level = -1)\n",
    "#df_unstack"
   ]
  },
  {
   "cell_type": "code",
   "execution_count": 13,
   "metadata": {},
   "outputs": [],
   "source": [
    "# adding population column for each year\n",
    "df_pop = pd.merge(df_unstack, pop_us, on = 'Year', how = 'inner')\n",
    "#df_pop.head(2)"
   ]
  },
  {
   "cell_type": "code",
   "execution_count": 14,
   "metadata": {},
   "outputs": [
    {
     "data": {
      "text/html": [
       "<div>\n",
       "<style scoped>\n",
       "    .dataframe tbody tr th:only-of-type {\n",
       "        vertical-align: middle;\n",
       "    }\n",
       "\n",
       "    .dataframe tbody tr th {\n",
       "        vertical-align: top;\n",
       "    }\n",
       "\n",
       "    .dataframe thead th {\n",
       "        text-align: right;\n",
       "    }\n",
       "</style>\n",
       "<table border=\"1\" class=\"dataframe\">\n",
       "  <thead>\n",
       "    <tr style=\"text-align: right;\">\n",
       "      <th></th>\n",
       "      <th>Year</th>\n",
       "      <th>Breast</th>\n",
       "      <th>Colon and Rectum</th>\n",
       "      <th>Corpus Uteri</th>\n",
       "      <th>Kidney and Renal Pelvis</th>\n",
       "      <th>Leukemias</th>\n",
       "      <th>Lung and Bronchus</th>\n",
       "      <th>Melanoma of the Skin</th>\n",
       "      <th>Non-Hodgkin Lymphoma</th>\n",
       "      <th>Prostate</th>\n",
       "      <th>Urinary Bladder, invasive and in situ</th>\n",
       "    </tr>\n",
       "  </thead>\n",
       "  <tbody>\n",
       "    <tr>\n",
       "      <th>0</th>\n",
       "      <td>2010.0</td>\n",
       "      <td>713.105</td>\n",
       "      <td>452.859</td>\n",
       "      <td>147.275</td>\n",
       "      <td>174.23</td>\n",
       "      <td>152.515</td>\n",
       "      <td>693.427</td>\n",
       "      <td>213.923</td>\n",
       "      <td>211.796</td>\n",
       "      <td>700.099</td>\n",
       "      <td>226.745</td>\n",
       "    </tr>\n",
       "    <tr>\n",
       "      <th>1</th>\n",
       "      <td>2011.0</td>\n",
       "      <td>733.266</td>\n",
       "      <td>448.909</td>\n",
       "      <td>150.719</td>\n",
       "      <td>178.205</td>\n",
       "      <td>157.388</td>\n",
       "      <td>689.659</td>\n",
       "      <td>222.675</td>\n",
       "      <td>214.314</td>\n",
       "      <td>713.316</td>\n",
       "      <td>228.362</td>\n",
       "    </tr>\n",
       "  </tbody>\n",
       "</table>\n",
       "</div>"
      ],
      "text/plain": [
       "     Year   Breast Colon and Rectum Corpus Uteri Kidney and Renal Pelvis  \\\n",
       "0  2010.0  713.105          452.859      147.275                  174.23   \n",
       "1  2011.0  733.266          448.909      150.719                 178.205   \n",
       "\n",
       "  Leukemias Lung and Bronchus Melanoma of the Skin Non-Hodgkin Lymphoma  \\\n",
       "0   152.515           693.427              213.923              211.796   \n",
       "1   157.388           689.659              222.675              214.314   \n",
       "\n",
       "  Prostate Urinary Bladder, invasive and in situ  \n",
       "0  700.099                               226.745  \n",
       "1  713.316                               228.362  "
      ]
     },
     "execution_count": 14,
     "metadata": {},
     "output_type": "execute_result"
    }
   ],
   "source": [
    "# Standarizing the incidence count by making it count per million\n",
    "df_pop.iloc[:, 1:11] = df_pop.iloc[:, 1:11].div(df_pop[\"Population\"], axis = 0).mul(1000000, axis = 0)\n",
    "df_pop.head(3)\n",
    "\n",
    "# dropping the population column from above df\n",
    "df_final = df_pop.drop('Population', axis = 1)\n",
    "df_final.head(2)"
   ]
  },
  {
   "cell_type": "code",
   "execution_count": 15,
   "metadata": {},
   "outputs": [
    {
     "data": {
      "image/png": "[encoded data removed]",
      "text/plain": [
       "<Figure size 576x360 with 1 Axes>"
      ]
     },
     "metadata": {
      "needs_background": "light"
     },
     "output_type": "display_data"
    }
   ],
   "source": [
    "# plotting the yearly trend for each cancer site\n",
    "plt.rcParams['figure.figsize'] = [8, 5]\n",
    "df_final.plot.line(x = 'Year')\n",
    "plt.title(\"Top 10 Leading Cancer Sites per year\")\n",
    "plt.xlabel(\"Year\")\n",
    "plt.ylabel(\"Incidence Counts per Million\")\n",
    "plt.legend(bbox_to_anchor=(1.05, 1.0), loc='upper left')\n",
    "plt.show()"
   ]
  },
  {
   "cell_type": "markdown",
   "metadata": {},
   "source": [
    "#### From the above plot we can conclude:\n",
    "- Breast cancer has the highest incidence count for all the years with a gradual yearly increase while Leukemias and Corpus Uteri has the lowest reported incidence. Also Leukemias shows a declining trend over the years with incidence reported for Corpus Uteri is almost constant for all all years.\n",
    "- Number of per million incidence reported for Prostate Cancer shows a significant decline over the years 2012 to 2014 and then again has a gradual increase from 2015."
   ]
  },
  {
   "cell_type": "markdown",
   "metadata": {},
   "source": [
    "### Conclusion"
   ]
  },
  {
   "cell_type": "markdown",
   "metadata": {},
   "source": [
    "- From the above analysis, it was seen that the per million incidences reported for various cancer sites / cancer types had a increasing trend over the years.\n",
    "\n",
    "- The 10 leading cancer sites for over all year (2010 - 2016) and the year wise leading cancer sites consisted of the same 10 cancer sites.\n",
    "\n",
    "- Breast cancer has the highest reported incidence over years with gradual increase each year while prostate cancer shows a significant decline in reported incidence for the period 2012 to 2014 with again a gradual increase from 2015.\n"
   ]
  }
 ],
 "metadata": {
  "kernelspec": {
   "display_name": "Python 3",
   "language": "python",
   "name": "python3"
  },
  "language_info": {
   "codemirror_mode": {
    "name": "ipython",
    "version": 3
   },
   "file_extension": ".py",
   "mimetype": "text/x-python",
   "name": "python",
   "nbconvert_exporter": "python",
   "pygments_lexer": "ipython3",
   "version": "3.8.5"
  }
 },
 "nbformat": 4,
 "nbformat_minor": 4
}
